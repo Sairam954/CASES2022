{
  "nbformat": 4,
  "nbformat_minor": 0,
  "metadata": {
    "colab": {
      "provenance": [],
      "include_colab_link": true
    },
    "kernelspec": {
      "name": "python3",
      "display_name": "Python 3"
    },
    "language_info": {
      "name": "python"
    }
  },
  "cells": [
    {
      "cell_type": "markdown",
      "metadata": {
        "id": "view-in-github",
        "colab_type": "text"
      },
      "source": [
        "<a href=\"https://colab.research.google.com/github/Sairam954/CASES2022/blob/main/ScalabilityAnalysis.ipynb\" target=\"_parent\"><img src=\"https://colab.research.google.com/assets/colab-badge.svg\" alt=\"Open In Colab\"/></a>"
      ]
    },
    {
      "cell_type": "markdown",
      "source": [
        "Below Scalability Analysis Code is developed using Equation 8 and Equation 11 from \"***Scaling up silicon photonic-based accelerators: Challenges and opportunities***\"\n",
        "\n",
        "Steps:\n",
        "1. Use Equation 8 to find the Photodetector sensitivity for a bit precision and datarate. **findPDSensitivity** method performs this step, it sweeps the PD sensitivity and finds the bit precision computed by equation 8. The method returns the PD Sensistivy for which the difference between the computed and required precision is minimum.  \n",
        "2. Use Equation 11 to find the maximum N and M supported for given bitprecision. **findOptimalN** method performs this step, it sweeps N and M values and calculates the output power available at PD, the N and M values that have output power POut greater than PD sensitivity calculated in step 1 are supported.\n",
        "\n",
        "3. Save the results in a csv file.\n",
        "\n",
        "\n",
        "\n"
      ],
      "metadata": {
        "id": "2uNSzfUlUE2d"
      }
    },
    {
      "cell_type": "markdown",
      "source": [
        "PD Sensitivity"
      ],
      "metadata": {
        "id": "WKB9Wg3SBiFC"
      }
    },
    {
      "cell_type": "code",
      "execution_count": 3,
      "metadata": {
        "id": "2_elTw9C_GR-"
      },
      "outputs": [],
      "source": [
        "import numpy as np\n",
        "def findPDSensitivity(no_of_bits, DR):\n",
        "    e = 1.6*10**(-19)  # columbs\n",
        "    KT = 0.0259*e  # columbs*Volt\n",
        "    R = 1.2  # A/W\n",
        "    Id = 35*10**(-9)  # A\n",
        "    RL = 50  # ohm\n",
        "    DR = DR*10**(9)  # Bits/s\n",
        "    RIN = 10**(-140/10)  # power ratio/ Hz\n",
        "\n",
        "    Pd_range = np.arange(-35, 0, 0.1)\n",
        "    error_list = []\n",
        "    pd_list = []\n",
        "    for pd_dbm in Pd_range:\n",
        "        Pd = 10**((pd_dbm-30)/10)  # W\n",
        "        A = R*Pd\n",
        "        B = 2*e*(R*Pd+Id)\n",
        "        C = (4*KT)/RL\n",
        "        D = (R**2)*(Pd**2)*RIN\n",
        "        E = 2*e*Id + C\n",
        "        F = DR/np.sqrt(2)\n",
        "        no_of_bits_hat = (\n",
        "            1/6.02)*(20*np.log10(A/((np.sqrt(B+C+D)+np.sqrt(E))*np.sqrt(F)))-1.76)\n",
        "        error = abs(no_of_bits_hat - no_of_bits)\n",
        "        error_list.append(error)\n",
        "        pd_list.append(pd_dbm)\n",
        "\n",
        "    min_error = min(error_list)\n",
        "    min_error_idx = error_list.index(min_error)\n",
        "    pd_dbm = pd_list[min_error_idx]\n",
        "    print(\"*******Calculated PD Sensitivity*****\", pd_dbm)\n",
        "    return pd_dbm"
      ]
    },
    {
      "cell_type": "code",
      "source": [
        "import numpy as np\n",
        "def findOptimalN(PLaser, pd_dbm, arch = \"MAW\"):\n",
        "    # # Optical Power Calculation\n",
        "    Psmf_att = 0\n",
        "    Pec_il = 1.6\n",
        "    Psi_att = 0.3\n",
        "    Pmrm_ip_il = 4\n",
        "    Pmrm_ip_obl = 0.01\n",
        "    Psplitter_il = 0.01\n",
        "    Pmrr_w_il = 0.01\n",
        "    Pmrr_w_obl = 0.01\n",
        "    dMRR = 0.02;\n",
        "    if arch == 'MAW':\n",
        "      p_penalty = 4.8 #\n",
        "    elif arch == 'AMW':\n",
        "      p_penalty = 5.8\n",
        "    elif arch == 'MMA':\n",
        "      p_penalty = 1.8\n",
        "    n_range = 201\n",
        "    N = range(1,n_range)\n",
        "    Pout =  0\n",
        "    maxN =1\n",
        "    for n in N:\n",
        "        m = n\n",
        "        Pout = PLaser - Psmf_att - Pec_il - (Psi_att*n*dMRR) - Pmrm_ip_il - (n-1)*Pmrm_ip_obl - (10*np.log10(n)+Psplitter_il*np.log2(m)) -Pmrr_w_il -(n-1)*Pmrr_w_obl - p_penalty\n",
        "\n",
        "        if Pout<pd_dbm:\n",
        "          break\n",
        "        else:\n",
        "          maxN = n\n",
        "    # for M not equal to N\n",
        "    # m_range = 300\n",
        "    # M = range(1,m_range)\n",
        "    # Pout =  0\n",
        "    # maxM =1\n",
        "    # for m in M:\n",
        "    #     n = 4\n",
        "    #     Pout = PLaser - Psmf_att - Pec_il - (Psi_att*n*dMRR) - Pmrm_ip_il - (n-1)*Pmrm_ip_obl - (10*np.log10(n)+Psplitter_il*np.log2(m)) -Pmrr_w_il -(n-1)*Pmrr_w_obl - p_penalty\n",
        "    #     if Pout<pd_dbm:\n",
        "    #       break\n",
        "    #     else:\n",
        "    #       maxM = m\n",
        "    print(\"*******Calculated Max Supported N*****\", maxN )\n",
        "    return maxN, Pout"
      ],
      "metadata": {
        "id": "2ibvqhv2CeCM"
      },
      "execution_count": 7,
      "outputs": []
    },
    {
      "cell_type": "markdown",
      "source": [
        "Below cell performs steps 1, 2, and 3. Please update the parameters according to your requirement.\n",
        "\n",
        "**NOTE**: In step 2, ***findOptimalN*** assumes M=N, you have to update the code if N is not equal to M."
      ],
      "metadata": {
        "id": "Jr2Lq965A7Qb"
      }
    },
    {
      "cell_type": "code",
      "source": [
        "import pandas as pd\n",
        "\n",
        "bits_range = [1,2,3,4,5,6,7,8] # UPDATE the list of bit precision you wish to extract N and M\n",
        "DR_range = [1, 3, 5, 10 ] # UPDATE the list of datarate\n",
        "PLaser = 10 # dBm # Input Laser Power\n",
        "arch = 'MMA' # Three type of architectures AMW 'DEAPCNN', MAW 'HOLYLIGHT', and MMA\n",
        "result_list = []\n",
        "for no_of_bits in bits_range:\n",
        "    for DR in DR_range:\n",
        "        result = {}\n",
        "        Pd_dbm = findPDSensitivity(no_of_bits, DR)\n",
        "        N, Pout = findOptimalN(PLaser, Pd_dbm, arch)\n",
        "        # result['PD_Sensitivity'] = Pd\n",
        "        result['N'] = N\n",
        "        # result['PLaser'] = PLaser\n",
        "        result['Pout'] = Pout\n",
        "        result['no_of_bits'] = no_of_bits\n",
        "        result['DR'] = DR\n",
        "        result_list.append(result)\n",
        "df = pd.DataFrame(result_list)\n",
        "df.to_csv('MMA_N_Recieved_Power.csv') # UPDATE the file name"
      ],
      "metadata": {
        "colab": {
          "base_uri": "https://localhost:8080/"
        },
        "id": "eID84eLYLw3A",
        "outputId": "7335a784-3999-49a0-e6d8-31f0eb2943ca"
      },
      "execution_count": 8,
      "outputs": [
        {
          "output_type": "stream",
          "name": "stdout",
          "text": [
            "*******Calculated PD Sensitivity***** -26.999999999999886\n",
            "*******Calculated Max Supported N***** 200\n",
            "*******Calculated PD Sensitivity***** -24.699999999999854\n",
            "*******Calculated Max Supported N***** 180\n",
            "*******Calculated PD Sensitivity***** -23.499999999999837\n",
            "*******Calculated Max Supported N***** 156\n",
            "*******Calculated PD Sensitivity***** -21.999999999999815\n",
            "*******Calculated Max Supported N***** 130\n",
            "*******Calculated PD Sensitivity***** -23.999999999999844\n",
            "*******Calculated Max Supported N***** 166\n",
            "*******Calculated PD Sensitivity***** -21.59999999999981\n",
            "*******Calculated Max Supported N***** 123\n",
            "*******Calculated PD Sensitivity***** -20.499999999999794\n",
            "*******Calculated Max Supported N***** 106\n",
            "*******Calculated PD Sensitivity***** -18.999999999999773\n",
            "*******Calculated Max Supported N***** 85\n",
            "*******Calculated PD Sensitivity***** -20.9999999999998\n",
            "*******Calculated Max Supported N***** 114\n",
            "*******Calculated PD Sensitivity***** -18.599999999999767\n",
            "*******Calculated Max Supported N***** 80\n",
            "*******Calculated PD Sensitivity***** -17.49999999999975\n",
            "*******Calculated Max Supported N***** 67\n",
            "*******Calculated PD Sensitivity***** -15.99999999999973\n",
            "*******Calculated Max Supported N***** 52\n",
            "*******Calculated PD Sensitivity***** -17.99999999999976\n",
            "*******Calculated Max Supported N***** 73\n",
            "*******Calculated PD Sensitivity***** -15.599999999999724\n",
            "*******Calculated Max Supported N***** 48\n",
            "*******Calculated PD Sensitivity***** -14.399999999999707\n",
            "*******Calculated Max Supported N***** 39\n",
            "*******Calculated PD Sensitivity***** -12.799999999999685\n",
            "*******Calculated Max Supported N***** 28\n",
            "*******Calculated PD Sensitivity***** -14.899999999999714\n",
            "*******Calculated Max Supported N***** 43\n",
            "*******Calculated PD Sensitivity***** -12.399999999999679\n",
            "*******Calculated Max Supported N***** 26\n",
            "*******Calculated PD Sensitivity***** -11.199999999999662\n",
            "*******Calculated Max Supported N***** 20\n",
            "*******Calculated PD Sensitivity***** -9.399999999999636\n",
            "*******Calculated Max Supported N***** 14\n",
            "*******Calculated PD Sensitivity***** -11.699999999999669\n",
            "*******Calculated Max Supported N***** 23\n",
            "*******Calculated PD Sensitivity***** -8.899999999999629\n",
            "*******Calculated Max Supported N***** 12\n",
            "*******Calculated PD Sensitivity***** -7.299999999999606\n",
            "*******Calculated Max Supported N***** 9\n",
            "*******Calculated PD Sensitivity***** -4.299999999999564\n",
            "*******Calculated Max Supported N***** 4\n",
            "*******Calculated PD Sensitivity***** -7.999999999999616\n",
            "*******Calculated Max Supported N***** 10\n",
            "*******Calculated PD Sensitivity***** -3.0999999999995467\n",
            "*******Calculated Max Supported N***** 3\n",
            "*******Calculated PD Sensitivity***** -0.09999999999950404\n",
            "*******Calculated Max Supported N***** 1\n",
            "*******Calculated PD Sensitivity***** -0.09999999999950404\n",
            "*******Calculated Max Supported N***** 1\n",
            "*******Calculated PD Sensitivity***** -0.4999999999995097\n",
            "*******Calculated Max Supported N***** 2\n",
            "*******Calculated PD Sensitivity***** -0.09999999999950404\n",
            "*******Calculated Max Supported N***** 1\n",
            "*******Calculated PD Sensitivity***** -0.09999999999950404\n",
            "*******Calculated Max Supported N***** 1\n",
            "*******Calculated PD Sensitivity***** -0.09999999999950404\n",
            "*******Calculated Max Supported N***** 1\n"
          ]
        }
      ]
    },
    {
      "cell_type": "code",
      "source": [],
      "metadata": {
        "id": "YC_bHj0uWcBk"
      },
      "execution_count": null,
      "outputs": []
    }
  ]
}